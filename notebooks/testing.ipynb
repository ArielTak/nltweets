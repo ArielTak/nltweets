{
 "cells": [
  {
   "cell_type": "code",
   "execution_count": 18,
   "metadata": {},
   "outputs": [
    {
     "name": "stdout",
     "output_type": "stream",
     "text": [
      "HeadsUp: The @Macys Tree Lighting Ceremony will take place tomorrow  in @UnionSquareSF at 6 p.m. The 2, 3, 38/38R,… https://t.co/aOFfbU3ST5\n",
      "Reminder: Details on today's parking enforcement as well as for tomorrow, #BlackFriday, can be found at: https://t.co/Nze58CnkuI\n",
      "*sigh* Our work continues! https://t.co/bP8JQUGpu9\n",
      "Reminder: There is no real time monitoring today or tomorrow. Regular hours will resume on Monday at 5 a.m.\n",
      "Reminder: #SFMuni service is operating on a Sunday schedule  today. #Thanksgiving. https://t.co/6m9SGyMrAI\n",
      "RT @JimAloisi: My annual reminder to give thanks today to those keeping the buses, subways &amp; trains moving today, to the health care worker…\n",
      "[#NEWS] We are finally settled in our new office building which was built by the creator of the Eiffel Tower, Mr. G… https://t.co/Q1BEJgfoxQ\n",
      "Happy Thanksgiving! We're thankful for all of you advocates, volunteers and donors who support our mission to expan… https://t.co/vH2ZHqZfja\n",
      "RT @JimAloisi: Pro tip to @MassDOT: widening route 1A without a commitment to connect Red &amp; Blue Lines will = taxpayer dollars wasted. http…\n",
      "ATTN: Details on today's parking enforcement as well as for tomorrow, #BlackFriday, can be found at: https://t.co/Nze58CnkuI\n",
      "HeadsUp: On Sunday, 11/25, bus shuttles will provide all day #TThird svc btwn Embarcadero &amp; Bayshore/Sunnydale. Wat… https://t.co/5F6sscAF9D\n",
      "HeadsUp: There will be no real time monitoring today or tomorrow. Regular hours will resume on Monday at 5 a.m.\n",
      "ATTN: #SFMuni service will be operating on a Sunday schedule all day today. #Thanksgiving. https://t.co/6m9SGyMrAI\n",
      "UPDATE: The OB 67 is still rerouting via Folsom to Alemany to regular route. Stops on Ellsworth being missed. https://t.co/g7AdXP6lNN\n",
      "RT @NWSBayArea: Radar Update 8:15 PM - showers are redeveloping over the #NorthBay.  Some showers may be heavy at times.  #cawx https://t.c…\n",
      "Whether you're staying local or on the road travelling, the SFMTA would like to wish you and yours a safe and fulfi… https://t.co/KZQ2uQJoi4\n",
      "RT @NWSBayArea: Breathing a sigh of relief - what a difference 24 hours makes.  The passing cold front and rain brought much needed air qua…\n",
      "Looks like there’s a livestream of my Auckland Conversations talk this evening.  Starting at the top of the hour!… https://t.co/zKLsPU7BLQ\n",
      "US public transit advocates: Don’t envy Europe. Start by envying Canada. https://t.co/MmNZSPSAYq\n",
      "ATTN: Due to earlier delay at Market and 2nd, the #FMarket is currently seeing large service gaps in both direction… https://t.co/jDJymexYwW\n"
     ]
    }
   ],
   "source": [
    "import tweepy\n",
    "\n",
    "consumer_key=\"1SLS6pevK3YM7BeCrQLpVfk7T\"\n",
    "consumer_secret=\"r3lGkI5fPfKDeLRD4e5Eyn72qWUiCUvpMLSPBG2Cg2Y7r9Gk1x\"\n",
    "access_token=\"973758793308766210-xRzee7RAut2g34xm3zpMP8v9dN55UK5\"\n",
    "access_token_secret=\"jqPV205H9n5eui9wyCkdTUdS90iBZw9CEXWI8Hd5fQomj\"\n",
    "\n",
    "auth = tweepy.OAuthHandler(consumer_key, consumer_secret)\n",
    "auth.set_access_token(access_token, access_token_secret)\n",
    "\n",
    "api = tweepy.API(auth)\n",
    "\n",
    "public_tweets = api.home_timeline()\n",
    "for tweet in public_tweets:\n",
    "    print(tweet.text)"
   ]
  },
  {
   "cell_type": "code",
   "execution_count": null,
   "metadata": {},
   "outputs": [],
   "source": []
  }
 ],
 "metadata": {
  "kernelspec": {
   "display_name": "Python 3",
   "language": "python",
   "name": "python3"
  },
  "language_info": {
   "codemirror_mode": {
    "name": "ipython",
    "version": 3
   },
   "file_extension": ".py",
   "mimetype": "text/x-python",
   "name": "python",
   "nbconvert_exporter": "python",
   "pygments_lexer": "ipython3",
   "version": "3.6.7"
  }
 },
 "nbformat": 4,
 "nbformat_minor": 2
}
