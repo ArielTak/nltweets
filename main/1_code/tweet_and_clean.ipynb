{
 "cells": [
  {
   "cell_type": "code",
   "execution_count": 1,
   "metadata": {},
   "outputs": [],
   "source": [
    "#!/usr/bin/python\n",
    "# -*- coding: utf-8 -*-\n",
    "\n",
    "import tweepy\n",
    "import spacy\n",
    "import csv\n",
    "import json\n",
    "import pandas as pd\n",
    "import os"
   ]
  },
  {
   "cell_type": "code",
   "execution_count": 2,
   "metadata": {},
   "outputs": [],
   "source": [
    "# Twitter API credentials\n",
    "credentialsPath = r'..\\0_data\\credentials'\n",
    "with open(os.path.join(credentialsPath, 'twitter_credentials.json')) as cred_data:\n",
    "    info = json.load(cred_data)\n",
    "    consumer_key = info['CONSUMER_KEY']\n",
    "    consumer_secret = info['CONSUMER_SECRET']\n",
    "    access_key = info['ACCESS_KEY']\n",
    "    access_secret = info['ACCESS_SECRET']\n",
    "\n",
    "# Create the api endpoint\n",
    "\n",
    "auth = tweepy.OAuthHandler(consumer_key, consumer_secret)\n",
    "api = tweepy.API(auth)"
   ]
  },
  {
   "cell_type": "code",
   "execution_count": 4,
   "metadata": {},
   "outputs": [
    {
     "name": "stdout",
     "output_type": "stream",
     "text": [
      "Enter the number of tweets that you want to extract- 25\n",
      "Enter which you are searching for, a hashtag (#), or a mention (@)#\n",
      "Enter the term you want to scrape- cali\n",
      "Extracted 25 tweets with #cali\n"
     ]
    }
   ],
   "source": [
    "# Convert to data frame\n",
    "def toDataFrame(tweets):\n",
    "    DataSet = pd.DataFrame()\n",
    "    \n",
    "    tweetsText = []\n",
    "    for tweet in tweets:\n",
    "            if 'retweeted_status' in  dir(tweet):\n",
    "                tweetsText.append(tweet.retweeted_status.full_text.encode('utf-8'))                \n",
    "            else:\n",
    "                tweetsText.append(tweet.full_text.encode('utf-8'))\n",
    "            \n",
    "    DataSet['Text'] = [text for text in tweetsText]\n",
    "    DataSet['User'] = [tweet.user.name.encode('utf-8') for tweet in tweets]\n",
    "    \n",
    "    tweetsImages = []\n",
    "    for tweet in tweets:\n",
    "        if 'media' in tweet.entities:\n",
    "            for image in tweet.entities['media']:\n",
    "                tweetsImages.append(image['media_url'])\n",
    "        else:\n",
    "            tweetsImages.append('')\n",
    "            \n",
    "    \n",
    "    DataSet['Image Urls'] = [image for image in tweetsImages]\n",
    "            \n",
    "    tweetsLongitudes = []\n",
    "    for tweet in tweets:\n",
    "        if tweet.coordinates is not None:\n",
    "            tweetsLongitudes.append(tweet.coordinates[\"coordinates\"][0])\n",
    "        else:\n",
    "            tweetsLongitudes.append('')\n",
    "    DataSet['Longitude'] = [longitude for longitude in tweetsLongitudes]\n",
    "    \n",
    "    tweetsLatitudes = []\n",
    "    for tweet in tweets:\n",
    "        if tweet.coordinates is not None:\n",
    "            tweetsLatitudes.append(tweet.coordinates[\"coordinates\"][1])\n",
    "        else:\n",
    "            tweetsLatitudes.append('')\n",
    "    DataSet['Latitude'] = [latitude for latitude in tweetsLatitudes]\n",
    "    \n",
    "    return DataSet\n",
    "\n",
    "\n",
    "# Specify the maximum number of tweets that you want to be extracted.\n",
    "\n",
    "maximum_number_of_tweets_to_be_extracted = \\\n",
    "    int(input('Enter the number of tweets that you want to extract- '))\n",
    "\n",
    "# Mention the mention that you want to look out for\n",
    "\n",
    "tag_choice = input('Enter which you are searching for, a hashtag (#), or a mention (@)')\n",
    "\n",
    "# added .lower() to ensure consistency\n",
    "mention = input('Enter the term you want to scrape- ').lower()\n",
    "\n",
    "results = []\n",
    "\n",
    "for tweet_info in tweepy.Cursor(api.search, q=str(tag_choice) + mention,\n",
    "                           tweet_mode='extended').items(maximum_number_of_tweets_to_be_extracted):\n",
    "    results.append(tweet_info)\n",
    "    \n",
    "for tweet_info in tweepy.Cursor(api.search, q=str(tag_choice) + mention.upper(),\n",
    "                           tweet_mode='extended').items(maximum_number_of_tweets_to_be_extracted):\n",
    "    results.append(tweet_info)\n",
    "\n",
    "data = toDataFrame(results)\n",
    "outputPath = r'..\\0_data\\manual'\n",
    "filePath = os.path.join(outputPath,'tweets_with_mention_' + mention + '.csv')\n",
    "if not os.path.isfile(filePath):\n",
    "    data.to_csv(filePath, index=False)\n",
    "else:\n",
    "    with open(filePath, 'a') as file:\n",
    "        data.to_csv(file, index = False)\n",
    "print ('Extracted ' + str(maximum_number_of_tweets_to_be_extracted) \\\n",
    "    + ' tweets with ' + str(tag_choice) + mention)"
   ]
  },
  {
   "cell_type": "code",
   "execution_count": 5,
   "metadata": {},
   "outputs": [
    {
     "data": {
      "text/plain": [
       "[('tagger', <spacy.pipeline.Tagger at 0x11fff690>),\n",
       " ('parser', <spacy.pipeline.DependencyParser at 0x5ed11e0>),\n",
       " ('ner', <spacy.pipeline.EntityRecognizer at 0x12008f00>)]"
      ]
     },
     "execution_count": 5,
     "metadata": {},
     "output_type": "execute_result"
    }
   ],
   "source": [
    "nlp = spacy.load('en')\n",
    "\n",
    "nlp.pipeline"
   ]
  },
  {
   "cell_type": "code",
   "execution_count": 21,
   "metadata": {},
   "outputs": [],
   "source": [
    "clean_texts = []\n",
    "clean_users = []\n",
    "\n",
    "for row in data.itertuples():\n",
    "    text = row[1].decode('utf-8')\n",
    "    user = row[2].decode('utf-8')\n",
    "    \n",
    "    text_doc = nlp.make_doc(text)\n",
    "    tokens = [token for token in text_doc if not token.is_stop]\n",
    "    tokens = [token for token in tokens if not token.is_punct]\n",
    "    tokens = [token for token in tokens if token.text != ' ']    \n",
    "    tokenz_final = [token.text for token in tokens]\n",
    "    \n",
    "    text = \" \".join(tokenz_final).strip()\n",
    "    text = text.replace('\\n', '')\n",
    "    \n",
    "    clean_texts.append(text)\n",
    "    clean_users.append(user)"
   ]
  },
  {
   "cell_type": "code",
   "execution_count": 29,
   "metadata": {},
   "outputs": [],
   "source": [
    "clean_data = pd.DataFrame({'clean_texts':clean_texts, 'clean_users':clean_users})"
   ]
  },
  {
   "cell_type": "code",
   "execution_count": 30,
   "metadata": {},
   "outputs": [
    {
     "data": {
      "text/html": [
       "<div>\n",
       "<style scoped>\n",
       "    .dataframe tbody tr th:only-of-type {\n",
       "        vertical-align: middle;\n",
       "    }\n",
       "\n",
       "    .dataframe tbody tr th {\n",
       "        vertical-align: top;\n",
       "    }\n",
       "\n",
       "    .dataframe thead th {\n",
       "        text-align: right;\n",
       "    }\n",
       "</style>\n",
       "<table border=\"1\" class=\"dataframe\">\n",
       "  <thead>\n",
       "    <tr style=\"text-align: right;\">\n",
       "      <th></th>\n",
       "      <th>clean_texts</th>\n",
       "      <th>clean_users</th>\n",
       "    </tr>\n",
       "  </thead>\n",
       "  <tbody>\n",
       "    <tr>\n",
       "      <th>0</th>\n",
       "      <td>MCCWear ’s Signature Adult Size Rainbow Shaggy...</td>\n",
       "      <td>🧶🧡Queen Millz🧡🧶</td>\n",
       "    </tr>\n",
       "    <tr>\n",
       "      <th>1</th>\n",
       "      <td>MCCWear ’s Signature Adult Size Rainbow Shaggy...</td>\n",
       "      <td>#〽️CCWear 🧶💜</td>\n",
       "    </tr>\n",
       "    <tr>\n",
       "      <th>2</th>\n",
       "      <td>About westcoast educator musicschool JesHudak ...</td>\n",
       "      <td>ETStudioProductions</td>\n",
       "    </tr>\n",
       "    <tr>\n",
       "      <th>3</th>\n",
       "      <td>Tu opinión es muy importante para mejorar nues...</td>\n",
       "      <td>Taxis Libres Los 4</td>\n",
       "    </tr>\n",
       "    <tr>\n",
       "      <th>4</th>\n",
       "      <td>Haganle pa delante trabajen decentemente mensa...</td>\n",
       "      <td>Santiago Ballesteros</td>\n",
       "    </tr>\n",
       "  </tbody>\n",
       "</table>\n",
       "</div>"
      ],
      "text/plain": [
       "                                         clean_texts           clean_users\n",
       "0  MCCWear ’s Signature Adult Size Rainbow Shaggy...       🧶🧡Queen Millz🧡🧶\n",
       "1  MCCWear ’s Signature Adult Size Rainbow Shaggy...          #〽️CCWear 🧶💜\n",
       "2  About westcoast educator musicschool JesHudak ...   ETStudioProductions\n",
       "3  Tu opinión es muy importante para mejorar nues...    Taxis Libres Los 4\n",
       "4  Haganle pa delante trabajen decentemente mensa...  Santiago Ballesteros"
      ]
     },
     "execution_count": 30,
     "metadata": {},
     "output_type": "execute_result"
    }
   ],
   "source": [
    "clean_data.head()"
   ]
  }
 ],
 "metadata": {
  "kernelspec": {
   "display_name": "Python 3",
   "language": "python",
   "name": "python3"
  },
  "language_info": {
   "codemirror_mode": {
    "name": "ipython",
    "version": 3
   },
   "file_extension": ".py",
   "mimetype": "text/x-python",
   "name": "python",
   "nbconvert_exporter": "python",
   "pygments_lexer": "ipython3",
   "version": "3.7.1"
  }
 },
 "nbformat": 4,
 "nbformat_minor": 2
}
